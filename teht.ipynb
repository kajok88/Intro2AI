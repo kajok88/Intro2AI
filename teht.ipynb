{
  "nbformat": 4,
  "nbformat_minor": 0,
  "metadata": {
    "colab": {
      "provenance": [],
      "authorship_tag": "ABX9TyPfm1AnEBDxLyD1CMSRg91S",
      "include_colab_link": true
    },
    "kernelspec": {
      "name": "python3",
      "display_name": "Python 3"
    },
    "language_info": {
      "name": "python"
    }
  },
  "cells": [
    {
      "cell_type": "markdown",
      "metadata": {
        "id": "view-in-github",
        "colab_type": "text"
      },
      "source": [
        "<a href=\"https://colab.research.google.com/github/kajok88/Intro2AI/blob/main/teht.ipynb\" target=\"_parent\"><img src=\"https://colab.research.google.com/assets/colab-badge.svg\" alt=\"Open In Colab\"/></a>"
      ]
    },
    {
      "cell_type": "code",
      "execution_count": null,
      "metadata": {
        "id": "zgUWMgvYQzL7"
      },
      "outputs": [],
      "source": []
    },
    {
      "cell_type": "code",
      "source": [
        "import numpy as np\n",
        "import matplotlib.pyplot as plt\n",
        "from sklearn.linear_model import LinearRegression"
      ],
      "metadata": {
        "id": "Di2qVpVvY4LW"
      },
      "execution_count": null,
      "outputs": []
    },
    {
      "cell_type": "code",
      "source": [
        "#-----------------------\n",
        "#-- Linear regression --\n",
        "#-----------------------\n",
        "\n",
        "# Teht. 1\n",
        "\n",
        "# Read the headers\n",
        "with open('Folds5x2_pp.csv', 'r') as f:\n",
        "    headers = f.readline().strip().split(',')\n",
        "#read the dataset into a matrix data\n",
        "data=np.loadtxt('Folds5x2_pp.csv', delimiter=',', skiprows=1)\n",
        "X=data[:,:5] #coodinates [x1,x2,x3,x4]=[T,V,AP,RH] as rows\n",
        "y=data[:,4] #values of PE to be predicted\n",
        "\n",
        "m,n=data.shape\n",
        "print(m)\n",
        "print(n)\n",
        "\n",
        "print(\"-------------------\")\n",
        "print(X[:5,:])\n",
        "print(y[:5])\n",
        "\n",
        "#distribution of values of the variables\n",
        "plt.figure(figsize=(15,3))\n",
        "for k in range(5):\n",
        "  plt.subplot(1,5,k+1)\n",
        "  plt.hist(X[:,k],10,edgecolor='k',zorder=2)\n",
        "  plt.grid()\n",
        "  plt.title(headers[k])\n",
        "\n",
        "#dependency of y of the variables x1-x5\n",
        "plt.figure(figsize=(15,3))\n",
        "for k in range(4):\n",
        "  plt.subplot(1,5,k+1)\n",
        "  plt.plot(X[:,k],y,'r.')\n",
        "  plt.grid()\n",
        "  plt.xlabel(headers[k])\n",
        "  if k==0:\n",
        "    plt.ylabel('y',rotation=0)\n"
      ],
      "metadata": {
        "id": "Ocl34HYpY-vI"
      },
      "execution_count": null,
      "outputs": []
    }
  ]
}